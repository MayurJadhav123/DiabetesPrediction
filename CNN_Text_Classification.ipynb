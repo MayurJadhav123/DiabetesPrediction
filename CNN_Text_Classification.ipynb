{
  "nbformat": 4,
  "nbformat_minor": 0,
  "metadata": {
    "colab": {
      "provenance": [],
      "authorship_tag": "ABX9TyPPKJ2a8sam8qYBAMG+Mgon",
      "include_colab_link": true
    },
    "kernelspec": {
      "name": "python3",
      "display_name": "Python 3"
    },
    "language_info": {
      "name": "python"
    }
  },
  "cells": [
    {
      "cell_type": "markdown",
      "metadata": {
        "id": "view-in-github",
        "colab_type": "text"
      },
      "source": [
        "<a href=\"https://colab.research.google.com/github/MayurJadhav123/DiabetesPrediction/blob/main/CNN_Text_Classification.ipynb\" target=\"_parent\"><img src=\"https://colab.research.google.com/assets/colab-badge.svg\" alt=\"Open In Colab\"/></a>"
      ]
    },
    {
      "cell_type": "code",
      "execution_count": null,
      "metadata": {
        "colab": {
          "base_uri": "https://localhost:8080/"
        },
        "id": "usHefvM2JAbN",
        "outputId": "e255fb0a-a459-43b0-c853-f263337077e1"
      },
      "outputs": [
        {
          "output_type": "stream",
          "name": "stdout",
          "text": [
            "--2023-01-03 05:21:07--  https://lazyprogrammer.me/course_files/nlp/bbc_text_cls.csv\n",
            "Resolving lazyprogrammer.me (lazyprogrammer.me)... 104.21.23.210, 172.67.213.166, 2606:4700:3031::6815:17d2, ...\n",
            "Connecting to lazyprogrammer.me (lazyprogrammer.me)|104.21.23.210|:443... connected.\n",
            "HTTP request sent, awaiting response... 200 OK\n",
            "Length: 5085081 (4.8M) [text/csv]\n",
            "Saving to: ‘bbc_text_cls.csv’\n",
            "\n",
            "bbc_text_cls.csv    100%[===================>]   4.85M  --.-KB/s    in 0.08s   \n",
            "\n",
            "2023-01-03 05:21:08 (58.6 MB/s) - ‘bbc_text_cls.csv’ saved [5085081/5085081]\n",
            "\n"
          ]
        }
      ],
      "source": [
        "!wget -nc https://lazyprogrammer.me/course_files/nlp/bbc_text_cls.csv"
      ]
    },
    {
      "cell_type": "code",
      "source": [
        "import numpy as np\n",
        "import pandas as pd\n",
        "import tensorflow as tf\n",
        "import matplotlib.pyplot as plt\n",
        "from sklearn.model_selection import train_test_split\n",
        "\n",
        "from tensorflow.keras.preprocessing.text import Tokenizer\n",
        "from tensorflow.keras.preprocessing.sequence import pad_sequences\n",
        "from tensorflow.keras.layers import Dense, Input, GlobalMaxPooling1D\n",
        "from tensorflow.keras.models import Model\n",
        "from tensorflow.keras.losses import SparseCategoricalCrossentropy\n",
        "from tensorflow.keras.layers import Conv1D, MaxPooling1D, Embedding"
      ],
      "metadata": {
        "id": "AtPwpn4yJGgl"
      },
      "execution_count": null,
      "outputs": []
    },
    {
      "cell_type": "code",
      "source": [
        "df= pd.read_csv('bbc_text_cls.csv')\n",
        "df.head()"
      ],
      "metadata": {
        "id": "iAhc3HJPPMn1",
        "colab": {
          "base_uri": "https://localhost:8080/",
          "height": 206
        },
        "outputId": "d839d585-e4a8-466a-c8f2-dfe3747f05e1"
      },
      "execution_count": null,
      "outputs": [
        {
          "output_type": "execute_result",
          "data": {
            "text/plain": [
              "                                                text    labels\n",
              "0  Ad sales boost Time Warner profit\\n\\nQuarterly...  business\n",
              "1  Dollar gains on Greenspan speech\\n\\nThe dollar...  business\n",
              "2  Yukos unit buyer faces loan claim\\n\\nThe owner...  business\n",
              "3  High fuel prices hit BA's profits\\n\\nBritish A...  business\n",
              "4  Pernod takeover talk lifts Domecq\\n\\nShares in...  business"
            ],
            "text/html": [
              "\n",
              "  <div id=\"df-bfa04e11-332e-4878-aed5-911eddbca33d\">\n",
              "    <div class=\"colab-df-container\">\n",
              "      <div>\n",
              "<style scoped>\n",
              "    .dataframe tbody tr th:only-of-type {\n",
              "        vertical-align: middle;\n",
              "    }\n",
              "\n",
              "    .dataframe tbody tr th {\n",
              "        vertical-align: top;\n",
              "    }\n",
              "\n",
              "    .dataframe thead th {\n",
              "        text-align: right;\n",
              "    }\n",
              "</style>\n",
              "<table border=\"1\" class=\"dataframe\">\n",
              "  <thead>\n",
              "    <tr style=\"text-align: right;\">\n",
              "      <th></th>\n",
              "      <th>text</th>\n",
              "      <th>labels</th>\n",
              "    </tr>\n",
              "  </thead>\n",
              "  <tbody>\n",
              "    <tr>\n",
              "      <th>0</th>\n",
              "      <td>Ad sales boost Time Warner profit\\n\\nQuarterly...</td>\n",
              "      <td>business</td>\n",
              "    </tr>\n",
              "    <tr>\n",
              "      <th>1</th>\n",
              "      <td>Dollar gains on Greenspan speech\\n\\nThe dollar...</td>\n",
              "      <td>business</td>\n",
              "    </tr>\n",
              "    <tr>\n",
              "      <th>2</th>\n",
              "      <td>Yukos unit buyer faces loan claim\\n\\nThe owner...</td>\n",
              "      <td>business</td>\n",
              "    </tr>\n",
              "    <tr>\n",
              "      <th>3</th>\n",
              "      <td>High fuel prices hit BA's profits\\n\\nBritish A...</td>\n",
              "      <td>business</td>\n",
              "    </tr>\n",
              "    <tr>\n",
              "      <th>4</th>\n",
              "      <td>Pernod takeover talk lifts Domecq\\n\\nShares in...</td>\n",
              "      <td>business</td>\n",
              "    </tr>\n",
              "  </tbody>\n",
              "</table>\n",
              "</div>\n",
              "      <button class=\"colab-df-convert\" onclick=\"convertToInteractive('df-bfa04e11-332e-4878-aed5-911eddbca33d')\"\n",
              "              title=\"Convert this dataframe to an interactive table.\"\n",
              "              style=\"display:none;\">\n",
              "        \n",
              "  <svg xmlns=\"http://www.w3.org/2000/svg\" height=\"24px\"viewBox=\"0 0 24 24\"\n",
              "       width=\"24px\">\n",
              "    <path d=\"M0 0h24v24H0V0z\" fill=\"none\"/>\n",
              "    <path d=\"M18.56 5.44l.94 2.06.94-2.06 2.06-.94-2.06-.94-.94-2.06-.94 2.06-2.06.94zm-11 1L8.5 8.5l.94-2.06 2.06-.94-2.06-.94L8.5 2.5l-.94 2.06-2.06.94zm10 10l.94 2.06.94-2.06 2.06-.94-2.06-.94-.94-2.06-.94 2.06-2.06.94z\"/><path d=\"M17.41 7.96l-1.37-1.37c-.4-.4-.92-.59-1.43-.59-.52 0-1.04.2-1.43.59L10.3 9.45l-7.72 7.72c-.78.78-.78 2.05 0 2.83L4 21.41c.39.39.9.59 1.41.59.51 0 1.02-.2 1.41-.59l7.78-7.78 2.81-2.81c.8-.78.8-2.07 0-2.86zM5.41 20L4 18.59l7.72-7.72 1.47 1.35L5.41 20z\"/>\n",
              "  </svg>\n",
              "      </button>\n",
              "      \n",
              "  <style>\n",
              "    .colab-df-container {\n",
              "      display:flex;\n",
              "      flex-wrap:wrap;\n",
              "      gap: 12px;\n",
              "    }\n",
              "\n",
              "    .colab-df-convert {\n",
              "      background-color: #E8F0FE;\n",
              "      border: none;\n",
              "      border-radius: 50%;\n",
              "      cursor: pointer;\n",
              "      display: none;\n",
              "      fill: #1967D2;\n",
              "      height: 32px;\n",
              "      padding: 0 0 0 0;\n",
              "      width: 32px;\n",
              "    }\n",
              "\n",
              "    .colab-df-convert:hover {\n",
              "      background-color: #E2EBFA;\n",
              "      box-shadow: 0px 1px 2px rgba(60, 64, 67, 0.3), 0px 1px 3px 1px rgba(60, 64, 67, 0.15);\n",
              "      fill: #174EA6;\n",
              "    }\n",
              "\n",
              "    [theme=dark] .colab-df-convert {\n",
              "      background-color: #3B4455;\n",
              "      fill: #D2E3FC;\n",
              "    }\n",
              "\n",
              "    [theme=dark] .colab-df-convert:hover {\n",
              "      background-color: #434B5C;\n",
              "      box-shadow: 0px 1px 3px 1px rgba(0, 0, 0, 0.15);\n",
              "      filter: drop-shadow(0px 1px 2px rgba(0, 0, 0, 0.3));\n",
              "      fill: #FFFFFF;\n",
              "    }\n",
              "  </style>\n",
              "\n",
              "      <script>\n",
              "        const buttonEl =\n",
              "          document.querySelector('#df-bfa04e11-332e-4878-aed5-911eddbca33d button.colab-df-convert');\n",
              "        buttonEl.style.display =\n",
              "          google.colab.kernel.accessAllowed ? 'block' : 'none';\n",
              "\n",
              "        async function convertToInteractive(key) {\n",
              "          const element = document.querySelector('#df-bfa04e11-332e-4878-aed5-911eddbca33d');\n",
              "          const dataTable =\n",
              "            await google.colab.kernel.invokeFunction('convertToInteractive',\n",
              "                                                     [key], {});\n",
              "          if (!dataTable) return;\n",
              "\n",
              "          const docLinkHtml = 'Like what you see? Visit the ' +\n",
              "            '<a target=\"_blank\" href=https://colab.research.google.com/notebooks/data_table.ipynb>data table notebook</a>'\n",
              "            + ' to learn more about interactive tables.';\n",
              "          element.innerHTML = '';\n",
              "          dataTable['output_type'] = 'display_data';\n",
              "          await google.colab.output.renderOutput(dataTable, element);\n",
              "          const docLink = document.createElement('div');\n",
              "          docLink.innerHTML = docLinkHtml;\n",
              "          element.appendChild(docLink);\n",
              "        }\n",
              "      </script>\n",
              "    </div>\n",
              "  </div>\n",
              "  "
            ]
          },
          "metadata": {},
          "execution_count": 3
        }
      ]
    },
    {
      "cell_type": "code",
      "source": [
        "df['targets'] = df['labels'].astype(\"category\").cat.codes"
      ],
      "metadata": {
        "id": "C5YzUEqO5zwJ"
      },
      "execution_count": null,
      "outputs": []
    },
    {
      "cell_type": "code",
      "source": [
        "#no of classes\n",
        "K = df['targets'].max() + 1\n",
        "K"
      ],
      "metadata": {
        "colab": {
          "base_uri": "https://localhost:8080/"
        },
        "id": "A1aDoCeN6KdA",
        "outputId": "55b519c7-ae21-46d7-9ced-758ded5231dd"
      },
      "execution_count": null,
      "outputs": [
        {
          "output_type": "execute_result",
          "data": {
            "text/plain": [
              "5"
            ]
          },
          "metadata": {},
          "execution_count": 5
        }
      ]
    },
    {
      "cell_type": "code",
      "source": [
        "df_train, df_test = train_test_split(df, test_size=0.3)"
      ],
      "metadata": {
        "id": "Eg4WusrI6VvN"
      },
      "execution_count": null,
      "outputs": []
    },
    {
      "cell_type": "code",
      "source": [
        "#Convert Sentences to Sequences\n",
        "MAX_VOCAB_SIZE = 2000\n",
        "tokenizer = Tokenizer(num_words=MAX_VOCAB_SIZE)\n",
        "tokenizer.fit_on_texts(df_train['text'])\n",
        "sequences_train = tokenizer.texts_to_sequences(df_train['text'])\n",
        "sequences_test = tokenizer.texts_to_sequences(df_test['text'])"
      ],
      "metadata": {
        "id": "YArdNpNb6tbW"
      },
      "execution_count": null,
      "outputs": []
    },
    {
      "cell_type": "code",
      "source": [
        "#get word index mapping\n",
        "word2idx = tokenizer.word_index\n",
        "V = len(word2idx)\n",
        "print('Found %s unique tokens.' %V)"
      ],
      "metadata": {
        "colab": {
          "base_uri": "https://localhost:8080/"
        },
        "id": "SEVtqHzx7iCA",
        "outputId": "f4ea48e1-a050-45e7-e675-9844bb888335"
      },
      "execution_count": null,
      "outputs": [
        {
          "output_type": "stream",
          "name": "stdout",
          "text": [
            "Found 27801 unique tokens.\n"
          ]
        }
      ]
    },
    {
      "cell_type": "code",
      "source": [
        "#pad sequences so that we get a N X T matrix\n",
        "data_train = pad_sequences(sequences_train)\n",
        "print('Shape of data train tensor:', data_train.shape)\n",
        "\n",
        "#get sequence length\n",
        "T = data_train.shape[1]\n",
        "T"
      ],
      "metadata": {
        "colab": {
          "base_uri": "https://localhost:8080/"
        },
        "id": "qzE8WwzV8AuU",
        "outputId": "329eb43a-cee0-42a1-ac83-534ca6b78175"
      },
      "execution_count": null,
      "outputs": [
        {
          "output_type": "stream",
          "name": "stdout",
          "text": [
            "Shape of data train tensor: (1557, 3475)\n"
          ]
        },
        {
          "output_type": "execute_result",
          "data": {
            "text/plain": [
              "3475"
            ]
          },
          "metadata": {},
          "execution_count": 9
        }
      ]
    },
    {
      "cell_type": "code",
      "source": [
        "data_test = pad_sequences(sequences_test, maxlen=T)\n",
        "print('Shape of data test tensor:', data_test.shape)"
      ],
      "metadata": {
        "colab": {
          "base_uri": "https://localhost:8080/"
        },
        "id": "0qnOgnF08dhx",
        "outputId": "5eecb2d8-27cb-4aaf-ecef-8b40685a660d"
      },
      "execution_count": null,
      "outputs": [
        {
          "output_type": "stream",
          "name": "stdout",
          "text": [
            "Shape of data test tensor: (668, 3475)\n"
          ]
        }
      ]
    },
    {
      "cell_type": "code",
      "source": [
        "#Create the model\n",
        "\n",
        "#We get to choose embedding dimensionality\n",
        "D = 50\n",
        "\n",
        "#Note: We actually want to the size of the embedding to (V+1) X D,\n",
        "#Because first index starts from 1 not 0\n",
        "#Thus, the final index of the embedding matrix is V\n",
        "#Then it actually must have size V + 1\n",
        "\n",
        "i = Input(shape=(T,))\n",
        "x = Embedding(V + 1, D)(i)\n",
        "x = Conv1D(32, 3, activation='relu')(x)\n",
        "#x = MaxPooling1D(3)(x)\n",
        "#x = Conv1D(64, 3, activation='relu')(x)\n",
        "#x = MaxPooling1D(3)(x)\n",
        "#x = Conv1D(128, 3, activation='relu')(x)\n",
        "x = GlobalMaxPooling1D()(x)\n",
        "x = Dense(K)(x)\n",
        "\n",
        "model = Model(i, x)"
      ],
      "metadata": {
        "id": "K5t0eK3d9d13"
      },
      "execution_count": null,
      "outputs": []
    },
    {
      "cell_type": "code",
      "source": [
        "#Compile and fit\n",
        "model.compile(\n",
        "    loss = SparseCategoricalCrossentropy(from_logits=True),\n",
        "    optimizer = 'adam',\n",
        "    metrics = ['accuracy']\n",
        ")\n",
        "\n",
        "print('Training model...')\n",
        "r = model.fit(\n",
        "  data_train,\n",
        "  df_train['targets'],\n",
        "  epochs = 50,\n",
        "  validation_data = (data_test, df_test['targets'])\n",
        ")\n"
      ],
      "metadata": {
        "colab": {
          "base_uri": "https://localhost:8080/"
        },
        "id": "3GJ-SYJxANTM",
        "outputId": "99ab92c8-bed8-4e02-aad2-ed3c145d8a3d"
      },
      "execution_count": null,
      "outputs": [
        {
          "output_type": "stream",
          "name": "stdout",
          "text": [
            "Training model...\n",
            "Epoch 1/50\n",
            "49/49 [==============================] - 17s 324ms/step - loss: 1.5698 - accuracy: 0.4001 - val_loss: 1.4941 - val_accuracy: 0.6003\n",
            "Epoch 2/50\n",
            "49/49 [==============================] - 16s 328ms/step - loss: 1.3526 - accuracy: 0.7347 - val_loss: 1.1823 - val_accuracy: 0.8054\n",
            "Epoch 3/50\n",
            "49/49 [==============================] - 10s 205ms/step - loss: 0.9063 - accuracy: 0.8812 - val_loss: 0.6919 - val_accuracy: 0.8892\n",
            "Epoch 4/50\n",
            "49/49 [==============================] - 10s 205ms/step - loss: 0.4746 - accuracy: 0.9216 - val_loss: 0.4128 - val_accuracy: 0.9042\n",
            "Epoch 5/50\n",
            "49/49 [==============================] - 10s 203ms/step - loss: 0.2670 - accuracy: 0.9499 - val_loss: 0.3001 - val_accuracy: 0.9222\n",
            "Epoch 6/50\n",
            "49/49 [==============================] - 10s 209ms/step - loss: 0.1694 - accuracy: 0.9750 - val_loss: 0.2481 - val_accuracy: 0.9386\n",
            "Epoch 7/50\n",
            "49/49 [==============================] - 10s 206ms/step - loss: 0.1152 - accuracy: 0.9827 - val_loss: 0.2186 - val_accuracy: 0.9446\n",
            "Epoch 8/50\n",
            "49/49 [==============================] - 10s 204ms/step - loss: 0.0812 - accuracy: 0.9917 - val_loss: 0.2005 - val_accuracy: 0.9446\n",
            "Epoch 9/50\n",
            "49/49 [==============================] - 11s 233ms/step - loss: 0.0585 - accuracy: 0.9955 - val_loss: 0.1891 - val_accuracy: 0.9461\n",
            "Epoch 10/50\n",
            "49/49 [==============================] - 10s 203ms/step - loss: 0.0431 - accuracy: 0.9987 - val_loss: 0.1817 - val_accuracy: 0.9461\n",
            "Epoch 11/50\n",
            "49/49 [==============================] - 12s 241ms/step - loss: 0.0325 - accuracy: 1.0000 - val_loss: 0.1774 - val_accuracy: 0.9476\n",
            "Epoch 12/50\n",
            "49/49 [==============================] - 11s 218ms/step - loss: 0.0251 - accuracy: 1.0000 - val_loss: 0.1748 - val_accuracy: 0.9476\n",
            "Epoch 13/50\n",
            "49/49 [==============================] - 10s 212ms/step - loss: 0.0198 - accuracy: 1.0000 - val_loss: 0.1728 - val_accuracy: 0.9491\n",
            "Epoch 14/50\n",
            "49/49 [==============================] - 10s 210ms/step - loss: 0.0160 - accuracy: 1.0000 - val_loss: 0.1722 - val_accuracy: 0.9506\n",
            "Epoch 15/50\n",
            "49/49 [==============================] - 10s 212ms/step - loss: 0.0132 - accuracy: 1.0000 - val_loss: 0.1713 - val_accuracy: 0.9506\n",
            "Epoch 16/50\n",
            "49/49 [==============================] - 10s 202ms/step - loss: 0.0110 - accuracy: 1.0000 - val_loss: 0.1705 - val_accuracy: 0.9506\n",
            "Epoch 17/50\n",
            "49/49 [==============================] - 10s 211ms/step - loss: 0.0093 - accuracy: 1.0000 - val_loss: 0.1704 - val_accuracy: 0.9521\n",
            "Epoch 18/50\n",
            "49/49 [==============================] - 10s 214ms/step - loss: 0.0080 - accuracy: 1.0000 - val_loss: 0.1705 - val_accuracy: 0.9521\n",
            "Epoch 19/50\n",
            "49/49 [==============================] - 10s 211ms/step - loss: 0.0069 - accuracy: 1.0000 - val_loss: 0.1709 - val_accuracy: 0.9521\n",
            "Epoch 20/50\n",
            "49/49 [==============================] - 10s 203ms/step - loss: 0.0060 - accuracy: 1.0000 - val_loss: 0.1710 - val_accuracy: 0.9521\n",
            "Epoch 21/50\n",
            "49/49 [==============================] - 10s 205ms/step - loss: 0.0053 - accuracy: 1.0000 - val_loss: 0.1713 - val_accuracy: 0.9521\n",
            "Epoch 22/50\n",
            "49/49 [==============================] - 10s 204ms/step - loss: 0.0047 - accuracy: 1.0000 - val_loss: 0.1719 - val_accuracy: 0.9521\n",
            "Epoch 23/50\n",
            "49/49 [==============================] - 11s 232ms/step - loss: 0.0042 - accuracy: 1.0000 - val_loss: 0.1723 - val_accuracy: 0.9521\n",
            "Epoch 24/50\n",
            "49/49 [==============================] - 10s 209ms/step - loss: 0.0038 - accuracy: 1.0000 - val_loss: 0.1728 - val_accuracy: 0.9521\n",
            "Epoch 25/50\n",
            "49/49 [==============================] - 10s 206ms/step - loss: 0.0034 - accuracy: 1.0000 - val_loss: 0.1730 - val_accuracy: 0.9521\n",
            "Epoch 26/50\n",
            "49/49 [==============================] - 10s 209ms/step - loss: 0.0031 - accuracy: 1.0000 - val_loss: 0.1739 - val_accuracy: 0.9536\n",
            "Epoch 27/50\n",
            "49/49 [==============================] - 10s 209ms/step - loss: 0.0028 - accuracy: 1.0000 - val_loss: 0.1742 - val_accuracy: 0.9536\n",
            "Epoch 28/50\n",
            "49/49 [==============================] - 10s 210ms/step - loss: 0.0026 - accuracy: 1.0000 - val_loss: 0.1746 - val_accuracy: 0.9521\n",
            "Epoch 29/50\n",
            "49/49 [==============================] - 10s 210ms/step - loss: 0.0023 - accuracy: 1.0000 - val_loss: 0.1750 - val_accuracy: 0.9551\n",
            "Epoch 30/50\n",
            "49/49 [==============================] - 10s 210ms/step - loss: 0.0022 - accuracy: 1.0000 - val_loss: 0.1759 - val_accuracy: 0.9551\n",
            "Epoch 31/50\n",
            "49/49 [==============================] - 11s 216ms/step - loss: 0.0020 - accuracy: 1.0000 - val_loss: 0.1762 - val_accuracy: 0.9551\n",
            "Epoch 32/50\n",
            "49/49 [==============================] - 10s 206ms/step - loss: 0.0018 - accuracy: 1.0000 - val_loss: 0.1768 - val_accuracy: 0.9551\n",
            "Epoch 33/50\n",
            "49/49 [==============================] - 10s 213ms/step - loss: 0.0017 - accuracy: 1.0000 - val_loss: 0.1773 - val_accuracy: 0.9551\n",
            "Epoch 34/50\n",
            "49/49 [==============================] - 10s 206ms/step - loss: 0.0016 - accuracy: 1.0000 - val_loss: 0.1780 - val_accuracy: 0.9551\n",
            "Epoch 35/50\n",
            "49/49 [==============================] - 10s 209ms/step - loss: 0.0015 - accuracy: 1.0000 - val_loss: 0.1783 - val_accuracy: 0.9551\n",
            "Epoch 36/50\n",
            "49/49 [==============================] - 10s 209ms/step - loss: 0.0014 - accuracy: 1.0000 - val_loss: 0.1789 - val_accuracy: 0.9566\n",
            "Epoch 37/50\n",
            "49/49 [==============================] - 11s 235ms/step - loss: 0.0013 - accuracy: 1.0000 - val_loss: 0.1794 - val_accuracy: 0.9566\n",
            "Epoch 38/50\n",
            "49/49 [==============================] - 10s 208ms/step - loss: 0.0012 - accuracy: 1.0000 - val_loss: 0.1799 - val_accuracy: 0.9566\n",
            "Epoch 39/50\n",
            "49/49 [==============================] - 10s 209ms/step - loss: 0.0011 - accuracy: 1.0000 - val_loss: 0.1805 - val_accuracy: 0.9566\n",
            "Epoch 40/50\n",
            "49/49 [==============================] - 10s 208ms/step - loss: 0.0011 - accuracy: 1.0000 - val_loss: 0.1810 - val_accuracy: 0.9566\n",
            "Epoch 41/50\n",
            "49/49 [==============================] - 10s 208ms/step - loss: 9.8996e-04 - accuracy: 1.0000 - val_loss: 0.1815 - val_accuracy: 0.9566\n",
            "Epoch 42/50\n",
            "49/49 [==============================] - 10s 209ms/step - loss: 9.3176e-04 - accuracy: 1.0000 - val_loss: 0.1819 - val_accuracy: 0.9566\n",
            "Epoch 43/50\n",
            "49/49 [==============================] - 10s 204ms/step - loss: 8.7755e-04 - accuracy: 1.0000 - val_loss: 0.1824 - val_accuracy: 0.9566\n",
            "Epoch 44/50\n",
            "49/49 [==============================] - 10s 204ms/step - loss: 8.2765e-04 - accuracy: 1.0000 - val_loss: 0.1828 - val_accuracy: 0.9551\n",
            "Epoch 45/50\n",
            "49/49 [==============================] - 10s 203ms/step - loss: 7.8172e-04 - accuracy: 1.0000 - val_loss: 0.1834 - val_accuracy: 0.9551\n",
            "Epoch 46/50\n",
            "49/49 [==============================] - 10s 202ms/step - loss: 7.3908e-04 - accuracy: 1.0000 - val_loss: 0.1839 - val_accuracy: 0.9566\n",
            "Epoch 47/50\n",
            "49/49 [==============================] - 10s 204ms/step - loss: 6.9931e-04 - accuracy: 1.0000 - val_loss: 0.1844 - val_accuracy: 0.9566\n",
            "Epoch 48/50\n",
            "49/49 [==============================] - 10s 203ms/step - loss: 6.6286e-04 - accuracy: 1.0000 - val_loss: 0.1849 - val_accuracy: 0.9551\n",
            "Epoch 49/50\n",
            "49/49 [==============================] - 10s 200ms/step - loss: 6.2844e-04 - accuracy: 1.0000 - val_loss: 0.1854 - val_accuracy: 0.9566\n",
            "Epoch 50/50\n",
            "49/49 [==============================] - 10s 202ms/step - loss: 5.9562e-04 - accuracy: 1.0000 - val_loss: 0.1858 - val_accuracy: 0.9566\n"
          ]
        }
      ]
    },
    {
      "cell_type": "code",
      "source": [
        "#Plot loss per iteration\n",
        "plt.plot(r.history['loss'], label = 'train loss')\n",
        "plt.plot(r.history['val_loss'], label = 'val loss')\n",
        "plt.legend();"
      ],
      "metadata": {
        "colab": {
          "base_uri": "https://localhost:8080/"
        },
        "id": "VDBZR64LA_47",
        "outputId": "22dac97b-072d-4b6a-ac4f-8193b6b87751"
      },
      "execution_count": null,
      "outputs": [
        {
          "output_type": "display_data",
          "data": {
            "text/plain": [
              "<Figure size 432x288 with 1 Axes>"
            ],
            "image/png": "[encoded data removed]"
          },
          "metadata": {
            "needs_background": "light"
          }
        }
      ]
    },
    {
      "cell_type": "code",
      "source": [
        "#Plot loss per iteration\n",
        "plt.plot(r.history['accuracy'], label = 'train acc')\n",
        "plt.plot(r.history['val_accuracy'], label = 'val acc')\n",
        "plt.legend();"
      ],
      "metadata": {
        "colab": {
          "base_uri": "https://localhost:8080/"
        },
        "id": "BMSHHCXSDNOq",
        "outputId": "8de1695a-4395-401f-daf1-1056405fe461"
      },
      "execution_count": null,
      "outputs": [
        {
          "output_type": "display_data",
          "data": {
            "text/plain": [
              "<Figure size 432x288 with 1 Axes>"
            ],
            "image/png": "[encoded data removed]"
          },
          "metadata": {
            "needs_background": "light"
          }
        }
      ]
    },
    {
      "cell_type": "code",
      "source": [],
      "metadata": {
        "id": "cQ1TGGuaDYRD"
      },
      "execution_count": null,
      "outputs": []
    }
  ]
}